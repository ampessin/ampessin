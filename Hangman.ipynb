{
  "cells": [
    {
      "cell_type": "code",
      "execution_count": 1,
      "metadata": {
        "id": "_GzTb1xdiW7u"
      },
      "outputs": [],
      "source": [
        "# Hangman\n",
        "\n",
        "# Set printout scenes, declare a function for each one, then a function to determine where its at, then it calls the other. use a variable to track how many incorrect answers\n",
        "\n",
        "# Chooses a random word in a large list of words\n",
        "\n",
        "# user enters one character a - z, if they enter more than one character or not a letter, ask again\n",
        "# Whether its correct or not, reprint the current *scene*\n",
        "\n",
        "#if correct input, print out the current scene (1-6 each body piece)\n",
        "\n",
        "import random as r\n",
        "from IPython.display import clear_output"
      ]
    },
    {
      "cell_type": "markdown",
      "metadata": {
        "id": "sO1vacD6iW7x"
      },
      "source": [
        "Choosing a random word from a bank, then splitting it into a list of letters"
      ]
    },
    {
      "cell_type": "code",
      "execution_count": 2,
      "metadata": {
        "id": "tD0NDKykiW7z"
      },
      "outputs": [],
      "source": [
        "def getLetters() -> list:\n",
        "    bank = ['example', 'holiday', 'picture', 'freedom', 'journey', 'library', 'monster', 'network',\n",
        "        'organic', 'passion', 'quality', 'respect', 'science', 'teacher', 'unicorn', 'victory',\n",
        "        'whisper', 'xylophone', 'yawning', 'zealous', 'amazing', 'bicycle', 'chicken', 'diamond',\n",
        "        'elephant', 'fantasy', 'giraffe', 'harmony', 'isolate', 'justice', 'kangaroo', 'laughter',\n",
        "        'mystery', 'notable', 'octopus', 'pioneer', 'quicker', 'rainbow', 'sunrise', 'tension', 'unusual',\n",
        "        'village', 'warrior', 'xenon', 'yogurt', 'Mexico', 'McDonalds', 'America', 'Fortnite', 'laptop']\n",
        "\n",
        "    randomWord = bank[r.randint(0,len(bank)-1)]\n",
        "\n",
        "    randomWord = randomWord.lower()\n",
        "\n",
        "    letters = list(randomWord)\n",
        "    return letters"
      ]
    },
    {
      "cell_type": "markdown",
      "metadata": {
        "id": "pus8xlcxiW70"
      },
      "source": [
        "Get an input from the user to guess a letter. The input given must be a single letter: A through Z, no symbols or numbers."
      ]
    },
    {
      "cell_type": "code",
      "execution_count": 3,
      "metadata": {
        "id": "-tnNHS3ViW71"
      },
      "outputs": [],
      "source": [
        "def getLetterGuess(guessed_letters) -> str: # function to be called later on\n",
        "    validGuess = False # Boolean variable to keep loop working until certain condition is met.\n",
        "    while validGuess == False:\n",
        "        guess = input(\"Guess a letter in the alphabet (lower case only)\")\n",
        "        if len(guess) == 1 and guess.isalpha() and guess.islower(): # if guess is 1 character, and is a  lower case letter\n",
        "            if guess in guessed_letters: # if you have already guessed the letter\n",
        "                print(\"You already guessed this! Try again.\")\n",
        "            else: #if the guess is one character, a letter, and is not in the list of already guessed letters, it is a valid guess\n",
        "                validGuess = True\n",
        "        else:\n",
        "            print(\"Not a valid guess, try again\")\n",
        "    return guess"
      ]
    },
    {
      "cell_type": "markdown",
      "metadata": {
        "id": "UsKfH0rmiW72"
      },
      "source": [
        "Analyze the guess. Once the guess is given, must analyze it and determine if it is wrong or not. ( give a strike or not)"
      ]
    },
    {
      "cell_type": "code",
      "execution_count": 4,
      "metadata": {
        "id": "nfAXrsVmiW72"
      },
      "outputs": [],
      "source": [
        "def analyzeSingleLetter(guessed_letter:str,letters:list,numStrikes:int) -> int:\n",
        "    if(guessed_letter in letters):\n",
        "        return numStrikes\n",
        "    else:\n",
        "       return numStrikes+1\n"
      ]
    },
    {
      "cell_type": "markdown",
      "metadata": {
        "id": "162E3TeziW72"
      },
      "source": [
        "Creating the core visual of the game, which is the printout"
      ]
    },
    {
      "cell_type": "code",
      "execution_count": 5,
      "metadata": {
        "id": "wFCkddn_iW73"
      },
      "outputs": [],
      "source": [
        "hangmen = [\n",
        "       [ # 0 strikes\n",
        "        \"   +---+\",\n",
        "        \"   |   |\",\n",
        "        \"       |\",\n",
        "        \"       |\",\n",
        "        \"       |\",\n",
        "        \"       |\",\n",
        "        \"==========\"\n",
        "        ],\n",
        "        [ # 1 strike\n",
        "        \"   +---+\",\n",
        "        \"   |   |\",\n",
        "        \"   O   |\",\n",
        "        \"       |\",\n",
        "        \"       |\",\n",
        "        \"       |\",\n",
        "        \"==========\"\n",
        "        ],\n",
        "        [ # 2 strikes\n",
        "        \"   +---+\",\n",
        "        \"   |   |\",\n",
        "        \"   O   |\",\n",
        "        \"   |   |\",\n",
        "        \"       |\",\n",
        "        \"       |\",\n",
        "        \"==========\"\n",
        "        ],\n",
        "        [ # 3 strikes\n",
        "        \"   +---+\",\n",
        "        \"   |   |\",\n",
        "        \"   O   |\",\n",
        "        \"  (|   |\",\n",
        "        \"       |\",\n",
        "        \"       |\",\n",
        "        \"==========\"\n",
        "        ],\n",
        "        [ # 4 strikes\n",
        "        \"   +---+\",\n",
        "        \"   |   |\",\n",
        "        \"   O   |\",\n",
        "        \"  (|)  |\",\n",
        "        \"       |\",\n",
        "        \"       |\",\n",
        "        \"==========\"\n",
        "        ],\n",
        "        [ # 5 strikes\n",
        "        \"   +---+\",\n",
        "        \"   |   |\",\n",
        "        \"   O   |\",\n",
        "        \"  (|)  |\",\n",
        "        \"  /    |\",\n",
        "        \"       |\",\n",
        "        \"==========\"\n",
        "        ],\n",
        "        [ # 6 strikes\n",
        "        \"   +---+\",\n",
        "        \"   |   |\",\n",
        "        \"   O   |\",\n",
        "        \"  (|)  |\",\n",
        "        \"  / \\  |\",\n",
        "        \"       |\",\n",
        "        \"==========\"\n",
        "        ]\n",
        "        ]\n",
        "\n",
        "\n",
        "def print_hangman_scene(word, guessed_letters,strikes):\n",
        "    for line in hangmen[strikes]:\n",
        "        print(line)\n",
        "\n",
        "    # Print the word with guessed letters in their correct positions\n",
        "    print(\"You have {x}/6 strikes\".format(x = strikes))\n",
        "    print()\n",
        "    display_word = \" \".join(letter if letter in guessed_letters else \"_\" for letter in word)\n",
        "    print(\"Word: \" + display_word)\n",
        "    print()\n",
        "    print(\"Guessed letters:{x}\".format(x = guessed_letters))\n",
        "    print(\"_______________________________________________\")\n",
        "\n",
        "\n",
        "\n"
      ]
    },
    {
      "cell_type": "markdown",
      "metadata": {
        "id": "oOqUfnPNiW74"
      },
      "source": [
        "Function to determine whether or not the game should keep running. I am using a boolean while-loop to keep the program running in the main function, so the output would be True to keep game going, false to end game."
      ]
    },
    {
      "cell_type": "code",
      "execution_count": 6,
      "metadata": {
        "id": "E2RgQlR8iW74"
      },
      "outputs": [],
      "source": [
        "def check_game_on(word_to_guess, guessedLetters, strikes):\n",
        "        # returns True means keep the game going\n",
        "        # returns False ends the game\n",
        "        if(strikes == 6):\n",
        "            print(\"You lose! The word was: {x}\".format(x = word_to_guess))\n",
        "            return False\n",
        "\n",
        "        # Check if all letters in word_to_guess are in guessedLetters\n",
        "        for letter in word_to_guess:\n",
        "           if letter not in guessedLetters:\n",
        "               print(\"Keep Guessing!\")\n",
        "               return True\n",
        "        print(\"Congrats!! You Win!!\")\n",
        "        return False"
      ]
    },
    {
      "cell_type": "code",
      "execution_count": 7,
      "metadata": {
        "id": "Ue5v9ngSiW75"
      },
      "outputs": [],
      "source": [
        "def print_instructions():\n",
        "    print(\"How to play. Guess a letter when prompted, don't let the hangman swing!\")\n",
        "    print(\"If new input is not displaying, retype same input, no negative effects if you guess a previously guessed letter\")"
      ]
    },
    {
      "cell_type": "markdown",
      "metadata": {
        "id": "PynC_2J8iW76"
      },
      "source": [
        "Main method. Initializes variables, and calls for the while on loop"
      ]
    },
    {
      "cell_type": "code",
      "execution_count": 8,
      "metadata": {
        "id": "gPPWc0r8iW76"
      },
      "outputs": [],
      "source": [
        "def play():\n",
        "    gameOn = True #Boolean variable that changes when game should end\n",
        "    letters = getLetters() # Runs the first function, gets a word and splits it into letters, because it made more sense to split into letters at the time.\n",
        "    word_to_guess = ''.join(letters) # Joins the letters into a word.\n",
        "    guessed_letters = [] # empty list for the used letters\n",
        "    numStrikes = 0 # 6 strikes and your out\n",
        "    print_instructions()\n",
        "    print_hangman_scene(word_to_guess,guessed_letters,numStrikes)# initialize\n",
        "\n",
        "    while gameOn:\n",
        "        print_instructions()\n",
        "        guessed_letter = getLetterGuess(guessed_letters) # calls the second function which verifies the input from user\n",
        "        guessed_letters.append(guessed_letter) # adds the guessed letters to a the respective list\n",
        "        numStrikes = analyzeSingleLetter(guessed_letter,letters,numStrikes) # determine if the letter adds a strike or not\n",
        "        clear_output()\n",
        "        print_hangman_scene(word_to_guess,guessed_letters,numStrikes) # Prints the hangman scene based off number of strikes, word to guess, and guessed letters\n",
        "\n",
        "        gameOn = check_game_on(word_to_guess,guessed_letters, numStrikes) # verifies if the game should end or continue another loop"
      ]
    },
    {
      "cell_type": "markdown",
      "metadata": {
        "id": "YIheyVwUiW76"
      },
      "source": [
        "<Strong>*PLAY HERE!*</Strong> (Don't forget to run all above)"
      ]
    },
    {
      "cell_type": "code",
      "execution_count": 12,
      "metadata": {
        "colab": {
          "base_uri": "https://localhost:8080/"
        },
        "id": "e5qKJhgSiW77",
        "outputId": "1246ab3f-423a-4840-e91a-cca749b6fb61"
      },
      "outputs": [
        {
          "output_type": "stream",
          "name": "stdout",
          "text": [
            "   +---+\n",
            "   |   |\n",
            "   O   |\n",
            "  (|)  |\n",
            "  /    |\n",
            "       |\n",
            "==========\n",
            "You have 5/6 strikes\n",
            "\n",
            "Word: o c t o p u s\n",
            "\n",
            "Guessed letters:['g', 'a', 'e', 'i', 'o', 'l', 's', 'c', 't', 'u', 'p']\n",
            "_______________________________________________\n",
            "Congrats!! You Win!!\n"
          ]
        }
      ],
      "source": [
        "play()"
      ]
    },
    {
      "cell_type": "markdown",
      "metadata": {
        "id": "GZIb-ycpiW78"
      },
      "source": [
        "<strong>Explain what your executed program does. If you selected a game, explain the object of the game (how\n",
        "does a player win)</strong>\n",
        "\n",
        "My program is a Hangman game. The objective of the game is to guess the randomly selected word, letter by letter. For each letter you guess incorrectly, another segment of the hangman is displayed. Once the hangman is fully displayed, you lose. You guess the word before the hangman is fully displayed, you win!\n",
        "______________________________________________________________________________________________________________________________________________________________________________\n",
        "\n",
        "<strong>Demonstrate that your program illustrates logic by selecting a segment or segments of code in the program\n",
        "that illustrate a logical process or that depends on a particular order of operations in your program. Copy that\n",
        "piece of code into the text box</strong>\n",
        "\n",
        "\n",
        "One part of my program that illistrates logic was my getLetterGuess function. While the name is bulky, it gets an input from the user, and requires certain properties of the input to be true before moving on, preventing errors later down the line. I used a boolean variable called validGuess, and set it to False, so the while loop will go until that is changed. I then checked the length of the input string, if it has one character, and is an english letter, that means it is almost a valid input. The next if statement is on a different line, so that the user can understand why the input did not compute. In this case, it is to check if the guess has already been guessed. So, in conclusion, if the guess has one character, is a letter, and has not been guessed already, it is a valid guess, and will allow the program to continue."
      ]
    },
    {
      "cell_type": "code",
      "execution_count": 10,
      "metadata": {
        "id": "ukwLfc7miW79"
      },
      "outputs": [],
      "source": [
        "# def getLetterGuess(guessed_letters) -> str: # function to be called later on\n",
        "#     validGuess = False # Boolean variable to keep loop working until certain condition is met.\n",
        "#     while validGuess == False:\n",
        "#         guess = input(\"Guess a letter in the alphabet (lower case only)\")\n",
        "#         if len(guess) == 1 and guess.isalpha() and guess.islower(): # if guess is 1 character, and is a  lower case letter\n",
        "#             if guess in guessed_letters: # if you have already guessed the letter\n",
        "#                 print(\"You already guessed this! Try again.\")\n",
        "#             else: #if the guess is one character, a letter, and is not in the list of already guessed letters, it is a valid guess\n",
        "#                 validGuess = True\n",
        "#         else:\n",
        "#             print(\"Not a valid guess, try again\")\n",
        "#     return guess"
      ]
    },
    {
      "cell_type": "markdown",
      "metadata": {
        "id": "akDGLxhAiW79"
      },
      "source": [
        "______________________________________________________________________________________________________________________________________________________________________________"
      ]
    },
    {
      "cell_type": "markdown",
      "metadata": {
        "id": "1pdJhsioiW79"
      },
      "source": [
        "<strong>Discuss how well your program functioned, and describe the difficulties encountered at the different stages\n",
        "of working on your project. Be sure to mention what action you took to get help. Did you look up python\n",
        "documentation online, visit a TA or UCA, or did you check in with a friend from class?</strong>\n",
        "\n",
        "I believe my program functions well. There are some issues I ran into, such as the jupyter notebook not correctly printing things out, sometimes I have to retype the last character I guessed just so it shows up. Currently unaware of how to fix this, although it isnt too big of a deal.\n",
        "\n",
        "One large difficulty I had while programming was my organization. For example, I made each scene of the hangman before I did anything else, and I had no idea when or how I would call each *scene*. It ended up working in my favor, as I realized since I made them index'd, I can use the strike counter to call them. Fortunately, I took full advantage of using pseudocode, so I always had some sort of direction.\n",
        "\n",
        "When I needed help with documentation, I used Bing.com and typically w3schools.com."
      ]
    }
  ],
  "metadata": {
    "kernelspec": {
      "display_name": "Python 3",
      "language": "python",
      "name": "python3"
    },
    "language_info": {
      "codemirror_mode": {
        "name": "ipython",
        "version": 3
      },
      "file_extension": ".py",
      "mimetype": "text/x-python",
      "name": "python",
      "nbconvert_exporter": "python",
      "pygments_lexer": "ipython3",
      "version": "3.10.6"
    },
    "colab": {
      "provenance": []
    }
  },
  "nbformat": 4,
  "nbformat_minor": 0
}